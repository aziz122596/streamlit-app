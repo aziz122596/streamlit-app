{
 "cells": [
  {
   "cell_type": "code",
   "execution_count": 40,
   "metadata": {},
   "outputs": [],
   "source": [
    "import pandas as pd\n",
    "import os\n",
    "from re import search"
   ]
  },
  {
   "cell_type": "code",
   "execution_count": 41,
   "metadata": {},
   "outputs": [],
   "source": [
    "os.chdir(\"c:\\\\Users\\\\User\\\\Desktop\\\\Biochem\") "
   ]
  },
  {
   "cell_type": "code",
   "execution_count": 42,
   "metadata": {},
   "outputs": [
    {
     "data": {
      "text/plain": [
       "['~$БХ_данные_pandas.xlsx', 'БХ_данные_pandas.xlsx']"
      ]
     },
     "execution_count": 42,
     "metadata": {},
     "output_type": "execute_result"
    }
   ],
   "source": [
    "os.listdir()"
   ]
  },
  {
   "cell_type": "code",
   "execution_count": 55,
   "metadata": {},
   "outputs": [],
   "source": [
    "# Загружаем данные из файла Excel \n",
    "df = pd.read_excel(\"c:\\\\Users\\\\User\\\\Desktop\\\\Biochem\\\\БХ_данные_pandas.xlsx\", sheet_name=\"12.11.2023\")\n",
    "df1 = pd.read_excel(\"c:\\\\Users\\\\User\\\\Desktop\\\\Biochem\\\\БХ_данные_pandas.xlsx\", sheet_name=\"19.11.2023\")\n",
    "df2 = pd.read_excel(\"c:\\\\Users\\\\User\\\\Desktop\\\\Biochem\\\\БХ_данные_pandas.xlsx\", sheet_name=\"26.11.2023\")\n",
    "df3 = pd.read_excel(\"c:\\\\Users\\\\User\\\\Desktop\\\\Biochem\\\\БХ_данные_pandas.xlsx\", sheet_name=\"02.12.2023\")"
   ]
  },
  {
   "cell_type": "code",
   "execution_count": 56,
   "metadata": {},
   "outputs": [],
   "source": [
    "# Списки концентраций\n",
    "cons_list = [\"3\", \"6\", \"12\"]"
   ]
  },
  {
   "cell_type": "code",
   "execution_count": 58,
   "metadata": {},
   "outputs": [],
   "source": [
    "# Добавляем столбец с датой к каждому датафрейму перед объединением\n",
    "df['Дата'] = \"12.11.2023\"\n",
    "df1['Дата'] = \"19.11.2023\"\n",
    "df2['Дата'] = \"26.11.2023\"\n",
    "df3['Дата'] = \"02.12.2023\"\n",
    "\n",
    "# Теперь, когда у каждого датафрейма есть столбец 'Дата', можно объединять их\n",
    "df_eritrociti_all = pd.concat([\n",
    "    df[df['исслед.материал'] == 'эритроциты'],\n",
    "    df1[df1['исслед.материал'] == 'эритроциты'],\n",
    "    df2[df2['исслед.материал'] == 'эритроциты'],\n",
    "    df3[df3['исслед.материал'] == 'эритроциты']\n",
    "], ignore_index=True)\n",
    "\n",
    "df_teni_all = pd.concat([\n",
    "    df[df['исслед.материал'] == 'тени'],\n",
    "    df1[df1['исслед.материал'] == 'тени'],\n",
    "    df2[df2['исслед.материал'] == 'тени'],\n",
    "    df3[df3['исслед.материал'] == 'тени']\n",
    "], ignore_index=True)\n",
    "\n",
    "df_vezykuli_all = pd.concat([\n",
    "    df[df['исслед.материал'] == 'везикулы'],\n",
    "    df1[df1['исслед.материал'] == 'везикулы'],\n",
    "    df2[df2['исслед.материал'] == 'везикулы'],\n",
    "    df3[df3['исслед.материал'] == 'везикулы']\n",
    "], ignore_index=True)\n"
   ]
  },
  {
   "cell_type": "code",
   "execution_count": 59,
   "metadata": {},
   "outputs": [
    {
     "name": "stdout",
     "output_type": "stream",
     "text": [
      "  исслед.материал   3мМ  опт.плотность_3   6мМ  опт.плотность_6   12мМ  \\\n",
      "0      эритроциты    К3            0.103    К6            0.108    К12   \n",
      "1      эритроциты     1            0.262     1            0.263      1   \n",
      "2      эритроциты     2            0.253     2            0.278      2   \n",
      "3      эритроциты    Б3            0.213    Б6            0.241    Б12   \n",
      "4      эритроциты  Б3,1            0.216  Б6,1            0.258  Б12,1   \n",
      "\n",
      "   опт.плотность_12        Дата  \n",
      "0             0.112  12.11.2023  \n",
      "1             0.291  12.11.2023  \n",
      "2             0.301  12.11.2023  \n",
      "3             0.284  12.11.2023  \n",
      "4             0.264  12.11.2023  \n"
     ]
    }
   ],
   "source": [
    "print(df_eritrociti_all.head())"
   ]
  },
  {
   "cell_type": "code",
   "execution_count": 53,
   "metadata": {},
   "outputs": [],
   "source": [
    "def calculate_values_erit(df, cons_list, sheet_date):\n",
    "    results_erit = []\n",
    "    for c in cons_list:\n",
    "        H = [x for x in df.columns if search(f\"_{c}\", x)]\n",
    "        if H:\n",
    "            vez = df.set_index(H[0])\n",
    "            for index, row in vez.iterrows():\n",
    "                try:\n",
    "                    OAA = (row[1] + row[2]) / 2 - row[f'К{c}']\n",
    "                    MA = (row[f'Б{c}'] + row[f'Б{c},1']) / 2 - row[f'К{c}']\n",
    "                    NKA = OAA - MA\n",
    "                    MA_100 = MA / (OAA / 100)\n",
    "                    summ = MA * 0.23 * 3 * 2 * 10 * 1.1 * 10\n",
    "                    summ2 = NKA * 0.23 * 3 * 2 * 10 * 1.1 * 10\n",
    "                    \n",
    "                    results_erit.append({\n",
    "                        'date': sheet_date,\n",
    "                        'material_type': 'эритроциты',\n",
    "                        'concentration': c + 'мМ',\n",
    "                        'MA': summ,\n",
    "                        'NKA': summ2\n",
    "                    })\n",
    "                except KeyError:\n",
    "                    continue  # Пропускаем, если не находим нужные ключи\n",
    "    return results_erit\n",
    "\n",
    "def calculate_values_teni(df, cons_list, sheet_date):\n",
    "    results_teni = []\n",
    "    for c in cons_list:\n",
    "        H = [x for x in df.columns if search(f\"_{c}\", x)]\n",
    "        if H:\n",
    "            vez = df.set_index(H[0])\n",
    "            for index, row in vez.iterrows():\n",
    "                try:\n",
    "                    OAA = (row[1] + row[2]) / 2 - row[f'К{c}']\n",
    "                    MA = (row[f'Б{c}'] + row[f'Б{c},1']) / 2 - row[f'К{c}']\n",
    "                    NKA = OAA - MA\n",
    "                    MA_100 = MA / (OAA / 100)\n",
    "                    belok = 0.278967742\n",
    "                    summ = MA * 0.23 * 3 * 2 / belok\n",
    "                    summ2 = NKA * 0.23 * 3 * 2 / belok\n",
    "                    \n",
    "                    results_teni.append({\n",
    "                        'date': sheet_date,\n",
    "                        'material_type': 'тени',\n",
    "                        'concentration': c + 'мМ',\n",
    "                        'MA': summ,\n",
    "                        'NKA': summ2\n",
    "                    })\n",
    "                except KeyError:\n",
    "                    continue\n",
    "    return results_teni\n",
    "\n",
    "def calculate_values_vezykuli(df, cons_list, sheet_date):\n",
    "    results_vezykuli = []\n",
    "    for c in cons_list:\n",
    "        H = [x for x in df.columns if search(f\"_{c}\", x)]\n",
    "        if H:\n",
    "            vez = df.set_index(H[0])\n",
    "            for index, row in vez.iterrows():\n",
    "                try:\n",
    "                    OAA = (row[1] + row[2]) / 2 - row[f'К{c}']\n",
    "                    MA = (row[f'Б{c}'] + row[f'Б{c},1']) / 2 - row[f'К{c}']\n",
    "                    NKA = OAA - MA\n",
    "                    MA_100 = MA / (OAA / 100)\n",
    "                    belok = 0.278967742\n",
    "                    summ = MA * 0.23 * 3 * 2 / belok\n",
    "                    summ2 = NKA * 0.23 * 3 * 2 / belok\n",
    "                    \n",
    "                    results_vezykuli.append({\n",
    "                        'date': sheet_date,\n",
    "                        'material_type': 'везикулы',\n",
    "                        'concentration': c + 'мМ',\n",
    "                        'MA': summ,\n",
    "                        'NKA': summ2\n",
    "                    })\n",
    "                except KeyError:\n",
    "                    continue\n",
    "    return results_vezykuli\n"
   ]
  },
  {
   "cell_type": "code",
   "execution_count": 60,
   "metadata": {},
   "outputs": [
    {
     "ename": "TypeError",
     "evalue": "unsupported operand type(s) for /: 'str' and 'int'",
     "output_type": "error",
     "traceback": [
      "\u001b[1;31m---------------------------------------------------------------------------\u001b[0m",
      "\u001b[1;31mTypeError\u001b[0m                                 Traceback (most recent call last)",
      "Cell \u001b[1;32mIn[60], line 1\u001b[0m\n\u001b[1;32m----> 1\u001b[0m res_eritrociti_all \u001b[38;5;241m=\u001b[39m calculate_values_erit(df_eritrociti_all, cons_list, \u001b[38;5;124m'\u001b[39m\u001b[38;5;124m12.11.2023\u001b[39m\u001b[38;5;124m'\u001b[39m)\n\u001b[0;32m      2\u001b[0m res_teni_all \u001b[38;5;241m=\u001b[39m calculate_values_teni(df_teni_all, cons_list, \u001b[38;5;124m'\u001b[39m\u001b[38;5;124m12.11.2023\u001b[39m\u001b[38;5;124m'\u001b[39m)\n\u001b[0;32m      3\u001b[0m res_vezykuli_all \u001b[38;5;241m=\u001b[39m calculate_values_vezykuli(df_vezykuli_all, cons_list, \u001b[38;5;124m'\u001b[39m\u001b[38;5;124m12.11.2023\u001b[39m\u001b[38;5;124m'\u001b[39m)\n",
      "Cell \u001b[1;32mIn[53], line 9\u001b[0m, in \u001b[0;36mcalculate_values_erit\u001b[1;34m(df, cons_list, sheet_date)\u001b[0m\n\u001b[0;32m      7\u001b[0m \u001b[38;5;28;01mfor\u001b[39;00m index, row \u001b[38;5;129;01min\u001b[39;00m vez\u001b[38;5;241m.\u001b[39miterrows():\n\u001b[0;32m      8\u001b[0m     \u001b[38;5;28;01mtry\u001b[39;00m:\n\u001b[1;32m----> 9\u001b[0m         OAA \u001b[38;5;241m=\u001b[39m (row[\u001b[38;5;241m1\u001b[39m] \u001b[38;5;241m+\u001b[39m row[\u001b[38;5;241m2\u001b[39m]) \u001b[38;5;241m/\u001b[39m \u001b[38;5;241m2\u001b[39m \u001b[38;5;241m-\u001b[39m row[\u001b[38;5;124mf\u001b[39m\u001b[38;5;124m'\u001b[39m\u001b[38;5;124mК\u001b[39m\u001b[38;5;132;01m{\u001b[39;00mc\u001b[38;5;132;01m}\u001b[39;00m\u001b[38;5;124m'\u001b[39m]\n\u001b[0;32m     10\u001b[0m         MA \u001b[38;5;241m=\u001b[39m (row[\u001b[38;5;124mf\u001b[39m\u001b[38;5;124m'\u001b[39m\u001b[38;5;124mБ\u001b[39m\u001b[38;5;132;01m{\u001b[39;00mc\u001b[38;5;132;01m}\u001b[39;00m\u001b[38;5;124m'\u001b[39m] \u001b[38;5;241m+\u001b[39m row[\u001b[38;5;124mf\u001b[39m\u001b[38;5;124m'\u001b[39m\u001b[38;5;124mБ\u001b[39m\u001b[38;5;132;01m{\u001b[39;00mc\u001b[38;5;132;01m}\u001b[39;00m\u001b[38;5;124m,1\u001b[39m\u001b[38;5;124m'\u001b[39m]) \u001b[38;5;241m/\u001b[39m \u001b[38;5;241m2\u001b[39m \u001b[38;5;241m-\u001b[39m row[\u001b[38;5;124mf\u001b[39m\u001b[38;5;124m'\u001b[39m\u001b[38;5;124mК\u001b[39m\u001b[38;5;132;01m{\u001b[39;00mc\u001b[38;5;132;01m}\u001b[39;00m\u001b[38;5;124m'\u001b[39m]\n\u001b[0;32m     11\u001b[0m         NKA \u001b[38;5;241m=\u001b[39m OAA \u001b[38;5;241m-\u001b[39m MA\n",
      "\u001b[1;31mTypeError\u001b[0m: unsupported operand type(s) for /: 'str' and 'int'"
     ]
    }
   ],
   "source": [
    "res_eritrociti_all = calculate_values_erit(df_eritrociti_all, cons_list, '12.11.2023')\n",
    "res_teni_all = calculate_values_teni(df_teni_all, cons_list, '12.11.2023')\n",
    "res_vezykuli_all = calculate_values_vezykuli(df_vezykuli_all, cons_list, '12.11.2023')"
   ]
  },
  {
   "cell_type": "code",
   "execution_count": null,
   "metadata": {},
   "outputs": [],
   "source": [
    "# Выводим результаты\n",
    "print(\"Результаты для эритроцитов:\")\n",
    "print(pd.DataFrame(res_erit_list))"
   ]
  },
  {
   "cell_type": "code",
   "execution_count": null,
   "metadata": {},
   "outputs": [],
   "source": [
    "print(\"\\nРезультаты для теней:\")\n",
    "print(pd.DataFrame(res_teni_list))"
   ]
  },
  {
   "cell_type": "code",
   "execution_count": null,
   "metadata": {},
   "outputs": [],
   "source": [
    "print(\"\\nРезультаты для везикул:\")\n",
    "print(pd.DataFrame(res_vezykuli_list))"
   ]
  }
 ],
 "metadata": {
  "kernelspec": {
   "display_name": "base",
   "language": "python",
   "name": "python3"
  },
  "language_info": {
   "codemirror_mode": {
    "name": "ipython",
    "version": 3
   },
   "file_extension": ".py",
   "mimetype": "text/x-python",
   "name": "python",
   "nbconvert_exporter": "python",
   "pygments_lexer": "ipython3",
   "version": "3.11.5"
  }
 },
 "nbformat": 4,
 "nbformat_minor": 2
}
